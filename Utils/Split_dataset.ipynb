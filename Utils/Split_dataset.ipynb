{
 "cells": [
  {
   "cell_type": "code",
   "execution_count": null,
   "id": "66448c24",
   "metadata": {},
   "outputs": [],
   "source": [
    "import os\n",
    "import random\n",
    "import shutil\n",
    "\n",
    "# set the paths and ratios\n",
    "data_dir = \"data\"\n",
    "train_dir = \"train\"\n",
    "val_dir = \"val\"\n",
    "test_dir = \"test\"\n",
    "ratio_train = 0.9\n",
    "ratio_val = 0.07\n",
    "ratio_test = 0.03\n",
    "\n",
    "# create the train, validation, and test directories\n",
    "os.makedirs(train_dir, exist_ok=True)\n",
    "os.makedirs(val_dir, exist_ok=True)\n",
    "os.makedirs(test_dir, exist_ok=True)\n",
    "\n",
    "# loop through each subdirectory and split the images\n",
    "for subdir in [\"center\", \"left\", \"right\"]:\n",
    "    subdir_path = os.path.join(data_dir, subdir)\n",
    "    filenames = os.listdir(subdir_path)\n",
    "    random.shuffle(filenames)\n",
    "    split_train = int(ratio_train * len(filenames))\n",
    "    split_val = int((ratio_train + ratio_val) * len(filenames))\n",
    "    train_filenames = filenames[:split_train]\n",
    "    val_filenames = filenames[split_train:split_val]\n",
    "    test_filenames = filenames[split_val:]\n",
    "    \n",
    "    # create the subdirectories in the train, validation, and test directories\n",
    "    os.makedirs(os.path.join(train_dir, subdir), exist_ok=True)\n",
    "    os.makedirs(os.path.join(val_dir, subdir), exist_ok=True)\n",
    "    os.makedirs(os.path.join(test_dir, subdir), exist_ok=True)\n",
    "    \n",
    "    # copy the images to their respective directories\n",
    "    for filename in train_filenames:\n",
    "        if filename.startswith('.'):\n",
    "            continue  # skip hidden directories and files\n",
    "        src_path = os.path.join(subdir_path, filename)\n",
    "        dst_path = os.path.join(train_dir, subdir, filename)\n",
    "        shutil.copyfile(src_path, dst_path)\n",
    "    for filename in val_filenames:\n",
    "        if filename.startswith('.'):\n",
    "            continue  # skip hidden directories and files\n",
    "        src_path = os.path.join(subdir_path, filename)\n",
    "        dst_path = os.path.join(val_dir, subdir, filename)\n",
    "        shutil.copyfile(src_path, dst_path)\n",
    "    for filename in test_filenames:\n",
    "        if filename.startswith('.'):\n",
    "            continue  # skip hidden directories and files\n",
    "        src_path = os.path.join(subdir_path, filename)\n",
    "        dst_path = os.path.join(test_dir, subdir, filename)\n",
    "        shutil.copyfile(src_path, dst_path)\n"
   ]
  }
 ],
 "metadata": {
  "kernelspec": {
   "display_name": "Python 3 (ipykernel)",
   "language": "python",
   "name": "python3"
  },
  "language_info": {
   "codemirror_mode": {
    "name": "ipython",
    "version": 3
   },
   "file_extension": ".py",
   "mimetype": "text/x-python",
   "name": "python",
   "nbconvert_exporter": "python",
   "pygments_lexer": "ipython3",
   "version": "3.9.16"
  }
 },
 "nbformat": 4,
 "nbformat_minor": 5
}
