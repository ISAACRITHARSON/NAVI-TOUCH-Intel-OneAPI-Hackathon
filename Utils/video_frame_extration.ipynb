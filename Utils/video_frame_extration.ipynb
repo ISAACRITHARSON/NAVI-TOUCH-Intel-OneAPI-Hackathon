{
 "cells": [
  {
   "cell_type": "code",
   "execution_count": 10,
   "metadata": {},
   "outputs": [],
   "source": [
    "import cv2\n",
    "import os\n",
    "\n",
    "# Path to the video file\n",
    "video_path = 'Path to your Video File'\n",
    "\n",
    "# Create directory to store frames\n",
    "if not os.path.exists('frames'):\n",
    "    os.makedirs('frames')\n",
    "\n",
    "# Open the video file\n",
    "video = cv2.VideoCapture(video_path)\n",
    "\n",
    "# Get the number of frames in the video\n",
    "num_frames = int(video.get(cv2.CAP_PROP_FRAME_COUNT))\n",
    "\n",
    "# Loop through each frame and save it as an image\n",
    "for i in range(num_frames):\n",
    "    # Read the frame\n",
    "    ret, frame = video.read()\n",
    "\n",
    "    # If the frame was read successfully\n",
    "    if ret:\n",
    "        # Save the frame as an image\n",
    "        cv2.imwrite(f'frames/frame_{i}.jpg', frame)\n",
    "    else:\n",
    "        break\n",
    "\n",
    "# Release the video file\n",
    "video.release()\n"
   ]
  }
 ],
 "metadata": {
  "kernelspec": {
   "display_name": "Python 3 (ipykernel)",
   "language": "python",
   "name": "python3"
  },
  "language_info": {
   "codemirror_mode": {
    "name": "ipython",
    "version": 3
   },
   "file_extension": ".py",
   "mimetype": "text/x-python",
   "name": "python",
   "nbconvert_exporter": "python",
   "pygments_lexer": "ipython3",
   "version": "3.9.16"
  }
 },
 "nbformat": 4,
 "nbformat_minor": 2
}
